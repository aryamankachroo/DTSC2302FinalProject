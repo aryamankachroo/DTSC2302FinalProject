{
 "cells": [
  {
   "cell_type": "code",
   "execution_count": 1,
   "id": "ac5a62bc",
   "metadata": {},
   "outputs": [],
   "source": [
    "from sodapy import Socrata\n",
    "import pandas as pd"
   ]
  },
  {
   "cell_type": "code",
   "execution_count": 2,
   "id": "240e2291",
   "metadata": {},
   "outputs": [
    {
     "name": "stderr",
     "output_type": "stream",
     "text": [
      "WARNING:root:Requests made without an app_token will be subject to strict throttling limits.\n"
     ]
    }
   ],
   "source": [
    "client = Socrata(\"data.cityofnewyork.us\", None)"
   ]
  },
  {
   "cell_type": "code",
   "execution_count": 3,
   "id": "98767e3f",
   "metadata": {},
   "outputs": [],
   "source": [
    "dataset_id = \"nre2-6m2s\""
   ]
  },
  {
   "cell_type": "code",
   "execution_count": 4,
   "id": "204152d5",
   "metadata": {},
   "outputs": [],
   "source": [
    "results = client.get(dataset_id, limit = 5000)"
   ]
  },
  {
   "cell_type": "code",
   "execution_count": 6,
   "id": "86f346c5",
   "metadata": {},
   "outputs": [],
   "source": [
    "df = pd.DataFrame.from_records(results)"
   ]
  },
  {
   "cell_type": "code",
   "execution_count": 7,
   "id": "2429a30d",
   "metadata": {},
   "outputs": [
    {
     "data": {
      "text/html": [
       "<div>\n",
       "<style scoped>\n",
       "    .dataframe tbody tr th:only-of-type {\n",
       "        vertical-align: middle;\n",
       "    }\n",
       "\n",
       "    .dataframe tbody tr th {\n",
       "        vertical-align: top;\n",
       "    }\n",
       "\n",
       "    .dataframe thead th {\n",
       "        text-align: right;\n",
       "    }\n",
       "</style>\n",
       "<table border=\"1\" class=\"dataframe\">\n",
       "  <thead>\n",
       "    <tr style=\"text-align: right;\">\n",
       "      <th></th>\n",
       "      <th>business_name</th>\n",
       "      <th>industry</th>\n",
       "      <th>complaint_type</th>\n",
       "      <th>mediation_start_date</th>\n",
       "      <th>mediation_close_date</th>\n",
       "      <th>complaint_result</th>\n",
       "      <th>satisfaction</th>\n",
       "      <th>restitution</th>\n",
       "      <th>business_building</th>\n",
       "      <th>business_street</th>\n",
       "      <th>building_address_unit</th>\n",
       "      <th>business_city</th>\n",
       "      <th>business_state</th>\n",
       "      <th>business_zip</th>\n",
       "      <th>complainant_zip</th>\n",
       "      <th>longitude</th>\n",
       "      <th>latitude</th>\n",
       "    </tr>\n",
       "  </thead>\n",
       "  <tbody>\n",
       "    <tr>\n",
       "      <th>0</th>\n",
       "      <td>IMPARK WATER LLC</td>\n",
       "      <td>Garage - 049</td>\n",
       "      <td>Advertising/General - A01</td>\n",
       "      <td>2018-06-13T00:00:00.000</td>\n",
       "      <td>2018-07-03T00:00:00.000</td>\n",
       "      <td>Referred to Outside - RTO</td>\n",
       "      <td>NA</td>\n",
       "      <td>0.00</td>\n",
       "      <td>307</td>\n",
       "      <td>7TH AVE</td>\n",
       "      <td>STE 301</td>\n",
       "      <td>NEW YORK</td>\n",
       "      <td>NY</td>\n",
       "      <td>10001</td>\n",
       "      <td>08721</td>\n",
       "      <td>-74.00978122562515</td>\n",
       "      <td>40.7035970814381</td>\n",
       "    </tr>\n",
       "    <tr>\n",
       "      <th>1</th>\n",
       "      <td>SOGO NY TRAVEL &amp; TOUR INC.</td>\n",
       "      <td>Travel Agency - 440</td>\n",
       "      <td>Exchange Goods/Contract Cancelled - E01</td>\n",
       "      <td>2014-10-17T00:00:00.000</td>\n",
       "      <td>2014-11-18T00:00:00.000</td>\n",
       "      <td>Cash Amount - AMT</td>\n",
       "      <td>Yes</td>\n",
       "      <td>438.00</td>\n",
       "      <td>3719</td>\n",
       "      <td>MAIN ST</td>\n",
       "      <td>2C</td>\n",
       "      <td>FLUSHING</td>\n",
       "      <td>NY</td>\n",
       "      <td>11354</td>\n",
       "      <td>10026</td>\n",
       "      <td>-73.8309544651437</td>\n",
       "      <td>40.76123957174321</td>\n",
       "    </tr>\n",
       "    <tr>\n",
       "      <th>2</th>\n",
       "      <td>CONTINENTAL SERVICE GROUP, INC.</td>\n",
       "      <td>Debt Collection Agency - 122</td>\n",
       "      <td>Billing Dispute - B02</td>\n",
       "      <td>2015-04-29T00:00:00.000</td>\n",
       "      <td>2015-05-18T00:00:00.000</td>\n",
       "      <td>Bill Reduced - BLR</td>\n",
       "      <td>Yes</td>\n",
       "      <td>13948.00</td>\n",
       "      <td>PO BOX</td>\n",
       "      <td>7</td>\n",
       "      <td>NaN</td>\n",
       "      <td>FAIRPORT</td>\n",
       "      <td>NY</td>\n",
       "      <td>14450</td>\n",
       "      <td>10472</td>\n",
       "      <td>NaN</td>\n",
       "      <td>NaN</td>\n",
       "    </tr>\n",
       "    <tr>\n",
       "      <th>3</th>\n",
       "      <td>RELIABLE REMODELERS INC.</td>\n",
       "      <td>Home Improvement Contractor - 100</td>\n",
       "      <td>Damaged Goods - D01</td>\n",
       "      <td>2017-03-29T00:00:00.000</td>\n",
       "      <td>2017-05-04T00:00:00.000</td>\n",
       "      <td>Referred to Hearing - RTH</td>\n",
       "      <td>No</td>\n",
       "      <td>0.00</td>\n",
       "      <td>2516</td>\n",
       "      <td>FRANCIS LEWIS BLVD</td>\n",
       "      <td>NaN</td>\n",
       "      <td>FLUSHING</td>\n",
       "      <td>NY</td>\n",
       "      <td>11358</td>\n",
       "      <td>11422</td>\n",
       "      <td>NaN</td>\n",
       "      <td>NaN</td>\n",
       "    </tr>\n",
       "    <tr>\n",
       "      <th>4</th>\n",
       "      <td>170 ELECTRONICS WORLD USA INC</td>\n",
       "      <td>Electronic Store - 001</td>\n",
       "      <td>Damaged Goods - D01</td>\n",
       "      <td>2021-03-05T00:00:00.000</td>\n",
       "      <td>2021-04-09T00:00:00.000</td>\n",
       "      <td>Advised to Sue - ATS</td>\n",
       "      <td>No</td>\n",
       "      <td>0.00</td>\n",
       "      <td>56A</td>\n",
       "      <td>E 170TH ST</td>\n",
       "      <td>NaN</td>\n",
       "      <td>BRONX</td>\n",
       "      <td>NY</td>\n",
       "      <td>10452</td>\n",
       "      <td>NaN</td>\n",
       "      <td>-73.91647618548</td>\n",
       "      <td>40.83975293547475</td>\n",
       "    </tr>\n",
       "  </tbody>\n",
       "</table>\n",
       "</div>"
      ],
      "text/plain": [
       "                     business_name                           industry  \\\n",
       "0                 IMPARK WATER LLC                       Garage - 049   \n",
       "1       SOGO NY TRAVEL & TOUR INC.                Travel Agency - 440   \n",
       "2  CONTINENTAL SERVICE GROUP, INC.       Debt Collection Agency - 122   \n",
       "3         RELIABLE REMODELERS INC.  Home Improvement Contractor - 100   \n",
       "4    170 ELECTRONICS WORLD USA INC             Electronic Store - 001   \n",
       "\n",
       "                            complaint_type     mediation_start_date  \\\n",
       "0                Advertising/General - A01  2018-06-13T00:00:00.000   \n",
       "1  Exchange Goods/Contract Cancelled - E01  2014-10-17T00:00:00.000   \n",
       "2                    Billing Dispute - B02  2015-04-29T00:00:00.000   \n",
       "3                      Damaged Goods - D01  2017-03-29T00:00:00.000   \n",
       "4                      Damaged Goods - D01  2021-03-05T00:00:00.000   \n",
       "\n",
       "      mediation_close_date           complaint_result satisfaction  \\\n",
       "0  2018-07-03T00:00:00.000  Referred to Outside - RTO           NA   \n",
       "1  2014-11-18T00:00:00.000          Cash Amount - AMT          Yes   \n",
       "2  2015-05-18T00:00:00.000         Bill Reduced - BLR          Yes   \n",
       "3  2017-05-04T00:00:00.000  Referred to Hearing - RTH           No   \n",
       "4  2021-04-09T00:00:00.000       Advised to Sue - ATS           No   \n",
       "\n",
       "  restitution business_building     business_street building_address_unit  \\\n",
       "0        0.00               307             7TH AVE               STE 301   \n",
       "1      438.00              3719             MAIN ST                    2C   \n",
       "2    13948.00            PO BOX                   7                   NaN   \n",
       "3        0.00              2516  FRANCIS LEWIS BLVD                   NaN   \n",
       "4        0.00               56A          E 170TH ST                   NaN   \n",
       "\n",
       "  business_city business_state business_zip complainant_zip  \\\n",
       "0      NEW YORK             NY        10001           08721   \n",
       "1      FLUSHING             NY        11354           10026   \n",
       "2      FAIRPORT             NY        14450           10472   \n",
       "3      FLUSHING             NY        11358           11422   \n",
       "4         BRONX             NY        10452             NaN   \n",
       "\n",
       "            longitude           latitude  \n",
       "0  -74.00978122562515   40.7035970814381  \n",
       "1   -73.8309544651437  40.76123957174321  \n",
       "2                 NaN                NaN  \n",
       "3                 NaN                NaN  \n",
       "4     -73.91647618548  40.83975293547475  "
      ]
     },
     "execution_count": 7,
     "metadata": {},
     "output_type": "execute_result"
    }
   ],
   "source": [
    "df.head()"
   ]
  },
  {
   "cell_type": "code",
   "execution_count": 24,
   "id": "bbffa0e9",
   "metadata": {},
   "outputs": [
    {
     "data": {
      "text/plain": [
       "(5000, 17)"
      ]
     },
     "execution_count": 24,
     "metadata": {},
     "output_type": "execute_result"
    }
   ],
   "source": [
    "df.shape"
   ]
  },
  {
   "cell_type": "code",
   "execution_count": 25,
   "id": "7b09760d",
   "metadata": {},
   "outputs": [
    {
     "data": {
      "text/plain": [
       "['business_name',\n",
       " 'industry',\n",
       " 'complaint_type',\n",
       " 'mediation_start_date',\n",
       " 'mediation_close_date',\n",
       " 'complaint_result',\n",
       " 'satisfaction',\n",
       " 'restitution',\n",
       " 'business_building',\n",
       " 'business_street',\n",
       " 'building_address_unit',\n",
       " 'business_city',\n",
       " 'business_state',\n",
       " 'business_zip',\n",
       " 'complainant_zip',\n",
       " 'longitude',\n",
       " 'latitude']"
      ]
     },
     "execution_count": 25,
     "metadata": {},
     "output_type": "execute_result"
    }
   ],
   "source": [
    "df.columns.tolist()"
   ]
  },
  {
   "cell_type": "code",
   "execution_count": 26,
   "id": "2977366a",
   "metadata": {},
   "outputs": [
    {
     "data": {
      "text/plain": [
       "business_name            object\n",
       "industry                 object\n",
       "complaint_type           object\n",
       "mediation_start_date     object\n",
       "mediation_close_date     object\n",
       "complaint_result         object\n",
       "satisfaction             object\n",
       "restitution              object\n",
       "business_building        object\n",
       "business_street          object\n",
       "building_address_unit    object\n",
       "business_city            object\n",
       "business_state           object\n",
       "business_zip             object\n",
       "complainant_zip          object\n",
       "longitude                object\n",
       "latitude                 object\n",
       "dtype: object"
      ]
     },
     "execution_count": 26,
     "metadata": {},
     "output_type": "execute_result"
    }
   ],
   "source": [
    "df.dtypes"
   ]
  },
  {
   "cell_type": "code",
   "execution_count": 14,
   "id": "201bfe45",
   "metadata": {},
   "outputs": [
    {
     "data": {
      "text/plain": [
       "building_address_unit    4108\n",
       "latitude                 2155\n",
       "longitude                2155\n",
       "business_street           442\n",
       "complainant_zip           414\n",
       "complaint_type            368\n",
       "business_building         366\n",
       "business_city             354\n",
       "business_state            354\n",
       "business_zip              354\n",
       "business_name             163\n",
       "satisfaction                1\n",
       "dtype: int64"
      ]
     },
     "execution_count": 14,
     "metadata": {},
     "output_type": "execute_result"
    }
   ],
   "source": [
    "nulls = df.isnull().sum()\n",
    "nulls[nulls > 0].sort_values(ascending = False)"
   ]
  },
  {
   "cell_type": "code",
   "execution_count": 15,
   "id": "2bc19372",
   "metadata": {},
   "outputs": [],
   "source": [
    "df_clean = df.dropna(subset=['complaint_type', 'business_name'])"
   ]
  },
  {
   "cell_type": "code",
   "execution_count": 16,
   "id": "7eacf653",
   "metadata": {},
   "outputs": [],
   "source": [
    "# Optional: Drop all rows with ANY missing values (for a fully clean base)\n",
    "df_clean = df_clean.dropna()\n"
   ]
  },
  {
   "cell_type": "code",
   "execution_count": 17,
   "id": "319be4b4",
   "metadata": {},
   "outputs": [],
   "source": [
    "# Fill missing location fields with placeholder\n",
    "df_clean['latitude'] = df_clean['latitude'].fillna(0)\n",
    "df_clean['longitude'] = df_clean['longitude'].fillna(0)\n"
   ]
  },
  {
   "cell_type": "code",
   "execution_count": 18,
   "id": "93c95357",
   "metadata": {},
   "outputs": [
    {
     "name": "stdout",
     "output_type": "stream",
     "text": [
      "Shape after dropping key nulls: (4479, 17)\n"
     ]
    }
   ],
   "source": [
    "# Drop rows missing 'complaint_type' or 'business_name'\n",
    "df_clean = df.dropna(subset=['complaint_type', 'business_name'])\n",
    "\n",
    "# Check new shape\n",
    "print(\"Shape after dropping key nulls:\", df_clean.shape)\n"
   ]
  },
  {
   "cell_type": "code",
   "execution_count": 21,
   "id": "b9de16b6",
   "metadata": {},
   "outputs": [
    {
     "name": "stderr",
     "output_type": "stream",
     "text": [
      "C:\\Users\\Aryaman Kachroo\\AppData\\Local\\Temp\\ipykernel_22460\\2900134819.py:2: SettingWithCopyWarning: \n",
      "A value is trying to be set on a copy of a slice from a DataFrame.\n",
      "Try using .loc[row_indexer,col_indexer] = value instead\n",
      "\n",
      "See the caveats in the documentation: https://pandas.pydata.org/pandas-docs/stable/user_guide/indexing.html#returning-a-view-versus-a-copy\n",
      "  df_clean['mediation_start_date'] = pd.to_datetime(df_clean['mediation_start_date'], errors='coerce')\n",
      "C:\\Users\\Aryaman Kachroo\\AppData\\Local\\Temp\\ipykernel_22460\\2900134819.py:3: SettingWithCopyWarning: \n",
      "A value is trying to be set on a copy of a slice from a DataFrame.\n",
      "Try using .loc[row_indexer,col_indexer] = value instead\n",
      "\n",
      "See the caveats in the documentation: https://pandas.pydata.org/pandas-docs/stable/user_guide/indexing.html#returning-a-view-versus-a-copy\n",
      "  df_clean['mediation_close_date'] = pd.to_datetime(df_clean['mediation_close_date'], errors='coerce')\n",
      "C:\\Users\\Aryaman Kachroo\\AppData\\Local\\Temp\\ipykernel_22460\\2900134819.py:6: SettingWithCopyWarning: \n",
      "A value is trying to be set on a copy of a slice from a DataFrame.\n",
      "Try using .loc[row_indexer,col_indexer] = value instead\n",
      "\n",
      "See the caveats in the documentation: https://pandas.pydata.org/pandas-docs/stable/user_guide/indexing.html#returning-a-view-versus-a-copy\n",
      "  df_clean['resolution_days'] = (df_clean['mediation_close_date'] - df_clean['mediation_start_date']).dt.days\n"
     ]
    },
    {
     "data": {
      "text/html": [
       "<div>\n",
       "<style scoped>\n",
       "    .dataframe tbody tr th:only-of-type {\n",
       "        vertical-align: middle;\n",
       "    }\n",
       "\n",
       "    .dataframe tbody tr th {\n",
       "        vertical-align: top;\n",
       "    }\n",
       "\n",
       "    .dataframe thead th {\n",
       "        text-align: right;\n",
       "    }\n",
       "</style>\n",
       "<table border=\"1\" class=\"dataframe\">\n",
       "  <thead>\n",
       "    <tr style=\"text-align: right;\">\n",
       "      <th></th>\n",
       "      <th>mediation_start_date</th>\n",
       "      <th>mediation_close_date</th>\n",
       "      <th>resolution_days</th>\n",
       "    </tr>\n",
       "  </thead>\n",
       "  <tbody>\n",
       "    <tr>\n",
       "      <th>0</th>\n",
       "      <td>2018-06-13</td>\n",
       "      <td>2018-07-03</td>\n",
       "      <td>20</td>\n",
       "    </tr>\n",
       "    <tr>\n",
       "      <th>1</th>\n",
       "      <td>2014-10-17</td>\n",
       "      <td>2014-11-18</td>\n",
       "      <td>32</td>\n",
       "    </tr>\n",
       "    <tr>\n",
       "      <th>2</th>\n",
       "      <td>2015-04-29</td>\n",
       "      <td>2015-05-18</td>\n",
       "      <td>19</td>\n",
       "    </tr>\n",
       "    <tr>\n",
       "      <th>3</th>\n",
       "      <td>2017-03-29</td>\n",
       "      <td>2017-05-04</td>\n",
       "      <td>36</td>\n",
       "    </tr>\n",
       "    <tr>\n",
       "      <th>4</th>\n",
       "      <td>2021-03-05</td>\n",
       "      <td>2021-04-09</td>\n",
       "      <td>35</td>\n",
       "    </tr>\n",
       "  </tbody>\n",
       "</table>\n",
       "</div>"
      ],
      "text/plain": [
       "  mediation_start_date mediation_close_date  resolution_days\n",
       "0           2018-06-13           2018-07-03               20\n",
       "1           2014-10-17           2014-11-18               32\n",
       "2           2015-04-29           2015-05-18               19\n",
       "3           2017-03-29           2017-05-04               36\n",
       "4           2021-03-05           2021-04-09               35"
      ]
     },
     "execution_count": 21,
     "metadata": {},
     "output_type": "execute_result"
    }
   ],
   "source": [
    "# Convert to datetime using actual column names\n",
    "df_clean['mediation_start_date'] = pd.to_datetime(df_clean['mediation_start_date'], errors='coerce')\n",
    "df_clean['mediation_close_date'] = pd.to_datetime(df_clean['mediation_close_date'], errors='coerce')\n",
    "\n",
    "# Create resolution time column\n",
    "df_clean['resolution_days'] = (df_clean['mediation_close_date'] - df_clean['mediation_start_date']).dt.days\n",
    "\n",
    "# Show a few examples\n",
    "df_clean[['mediation_start_date', 'mediation_close_date', 'resolution_days']].head()\n"
   ]
  },
  {
   "cell_type": "code",
   "execution_count": 20,
   "id": "8fc135ec",
   "metadata": {},
   "outputs": [
    {
     "name": "stdout",
     "output_type": "stream",
     "text": [
      "['business_name', 'industry', 'complaint_type', 'mediation_start_date', 'mediation_close_date', 'complaint_result', 'satisfaction', 'restitution', 'business_building', 'business_street', 'building_address_unit', 'business_city', 'business_state', 'business_zip', 'complainant_zip', 'longitude', 'latitude']\n"
     ]
    }
   ],
   "source": [
    "print(df_clean.columns.tolist())\n"
   ]
  },
  {
   "cell_type": "code",
   "execution_count": 29,
   "id": "8a94e932",
   "metadata": {},
   "outputs": [
    {
     "data": {
      "text/plain": [
       "business_name             163\n",
       "industry                    0\n",
       "complaint_type            368\n",
       "mediation_start_date        0\n",
       "mediation_close_date        0\n",
       "complaint_result            0\n",
       "satisfaction                1\n",
       "restitution                 0\n",
       "business_building         366\n",
       "business_street           442\n",
       "building_address_unit    4108\n",
       "business_city             354\n",
       "business_state            354\n",
       "business_zip              354\n",
       "complainant_zip           414\n",
       "longitude                2155\n",
       "latitude                 2155\n",
       "dtype: int64"
      ]
     },
     "execution_count": 29,
     "metadata": {},
     "output_type": "execute_result"
    }
   ],
   "source": [
    "df.isnull().sum()"
   ]
  },
  {
   "cell_type": "code",
   "execution_count": 30,
   "id": "7c80eac5",
   "metadata": {},
   "outputs": [],
   "source": [
    "df_clean = df.dropna(subset=['business_name', 'complaint_type'])\n"
   ]
  },
  {
   "cell_type": "code",
   "execution_count": 31,
   "id": "48931e01",
   "metadata": {},
   "outputs": [],
   "source": [
    "df_clean = df_clean.drop(columns=[\n",
    "    'building_address_unit', 'business_building', 'business_street',\n",
    "    'business_city', 'business_state', 'business_zip', 'complainant_zip'\n",
    "])\n"
   ]
  },
  {
   "cell_type": "code",
   "execution_count": 32,
   "id": "fc18ae89",
   "metadata": {},
   "outputs": [],
   "source": [
    "df_clean[['latitude', 'longitude']] = df_clean[['latitude', 'longitude']].fillna(0)\n"
   ]
  },
  {
   "cell_type": "code",
   "execution_count": 33,
   "id": "4fbb406d",
   "metadata": {},
   "outputs": [],
   "source": [
    "df_clean['satisfaction'] = df_clean['satisfaction'].fillna('Unknown')\n"
   ]
  },
  {
   "cell_type": "code",
   "execution_count": 34,
   "id": "7421ffe8",
   "metadata": {},
   "outputs": [
    {
     "data": {
      "text/plain": [
       "business_name           0\n",
       "industry                0\n",
       "complaint_type          0\n",
       "mediation_start_date    0\n",
       "mediation_close_date    0\n",
       "complaint_result        0\n",
       "satisfaction            0\n",
       "restitution             0\n",
       "longitude               0\n",
       "latitude                0\n",
       "dtype: int64"
      ]
     },
     "execution_count": 34,
     "metadata": {},
     "output_type": "execute_result"
    }
   ],
   "source": [
    "df_clean.isnull().sum()\n"
   ]
  },
  {
   "cell_type": "code",
   "execution_count": 35,
   "id": "4216b376",
   "metadata": {},
   "outputs": [
    {
     "data": {
      "text/plain": [
       "complaint_result\n",
       "Advised to Sue - ATS                                  777\n",
       "Resolved and Consumer Satisfied - SPF                 772\n",
       "Cash Amount - AMT                                     731\n",
       "Bill Reduced - BLR                                    229\n",
       "No Satisfactory Agreement - NSA                       203\n",
       "Referred to Outside - RTO                             200\n",
       "No Business Response - NVR                            183\n",
       "No Consumer Response - NCR                            183\n",
       "Credit Card Refund and/or Contract Cancelled - CRC    164\n",
       "Referred to Hearing - RTH                             162\n",
       "Consumer Took Action - CTA                            141\n",
       "Goods Exchanged - GEX                                 128\n",
       "Goods Repaired - GRS                                  116\n",
       "Unable to Locate Business - ULV                       112\n",
       "Store Credit - SCR                                    100\n",
       "Complaint Invalid - CIN                                98\n",
       "Goods Received - GDR                                   74\n",
       "Consumer Withdrew Complaint - CWC                      31\n",
       "No Satisfactory Preempted - NSP                        29\n",
       "Out of Business - OOB                                  22\n",
       "Referred to Manufacturer - RMF                         14\n",
       "Agency Collected Judgement - ACJ                        6\n",
       "Unable to Locate Consumer - ULC                         3\n",
       "Cash Amount - Consumer Restitution from Escrow          1\n",
       "Name: count, dtype: int64"
      ]
     },
     "execution_count": 35,
     "metadata": {},
     "output_type": "execute_result"
    }
   ],
   "source": [
    "# How vendors responded\n",
    "df_clean['complaint_result'].value_counts()"
   ]
  },
  {
   "cell_type": "code",
   "execution_count": 36,
   "id": "7ccc9b46",
   "metadata": {},
   "outputs": [
    {
     "data": {
      "text/plain": [
       "satisfaction\n",
       "Yes        2320\n",
       "No         1466\n",
       "NA          692\n",
       "Unknown       1\n",
       "Name: count, dtype: int64"
      ]
     },
     "execution_count": 36,
     "metadata": {},
     "output_type": "execute_result"
    }
   ],
   "source": [
    "# Satisfaction levels\n",
    "df_clean['satisfaction'].value_counts()\n"
   ]
  },
  {
   "cell_type": "code",
   "execution_count": 37,
   "id": "4abd57ea",
   "metadata": {},
   "outputs": [
    {
     "data": {
      "text/plain": [
       "vendor_responded\n",
       "1    2456\n",
       "0    2023\n",
       "Name: count, dtype: int64"
      ]
     },
     "execution_count": 37,
     "metadata": {},
     "output_type": "execute_result"
    }
   ],
   "source": [
    "# Define positive response keywords\n",
    "positive_responses = [\n",
    "    'Resolved', 'Reduced', 'Credit Card Refund', 'Goods', 'Store Credit',\n",
    "    'Cash Amount', 'Took Action', 'Consumer Restitution'\n",
    "]\n",
    "\n",
    "# Create binary target variable\n",
    "df_clean['vendor_responded'] = df_clean['complaint_result'].apply(\n",
    "    lambda x: 1 if any(keyword.lower() in x.lower() for keyword in positive_responses) else 0\n",
    ")\n",
    "\n",
    "# Check balance\n",
    "df_clean['vendor_responded'].value_counts()\n"
   ]
  },
  {
   "cell_type": "code",
   "execution_count": 40,
   "id": "bec63707",
   "metadata": {},
   "outputs": [],
   "source": [
    "from sklearn.preprocessing import LabelEncoder"
   ]
  },
  {
   "cell_type": "code",
   "execution_count": 41,
   "id": "4cfd6c48",
   "metadata": {},
   "outputs": [],
   "source": [
    "# Encode 'industry', 'complaint_type', 'satisfaction'\n",
    "le_industry = LabelEncoder()\n",
    "le_complaint = LabelEncoder()\n",
    "le_satisfaction = LabelEncoder()\n",
    "\n",
    "df_clean['industry_encoded'] = le_industry.fit_transform(df_clean['industry'])\n",
    "df_clean['complaint_encoded'] = le_complaint.fit_transform(df_clean['complaint_type'])\n",
    "df_clean['satisfaction_encoded'] = le_satisfaction.fit_transform(df_clean['satisfaction'].astype(str))"
   ]
  },
  {
   "cell_type": "code",
   "execution_count": 44,
   "id": "4be1c51a",
   "metadata": {},
   "outputs": [],
   "source": [
    "# Recalculate resolution_days using cleaned columns\n",
    "df_clean['mediation_start_date'] = pd.to_datetime(df_clean['mediation_start_date'], errors='coerce')\n",
    "df_clean['mediation_close_date'] = pd.to_datetime(df_clean['mediation_close_date'], errors='coerce')\n",
    "\n",
    "df_clean['resolution_days'] = (df_clean['mediation_close_date'] - df_clean['mediation_start_date']).dt.days\n"
   ]
  },
  {
   "cell_type": "code",
   "execution_count": 45,
   "id": "c596077c",
   "metadata": {},
   "outputs": [
    {
     "name": "stdout",
     "output_type": "stream",
     "text": [
      "['business_name', 'industry', 'complaint_type', 'mediation_start_date', 'mediation_close_date', 'complaint_result', 'satisfaction', 'restitution', 'longitude', 'latitude', 'vendor_responded', 'industry_encoded', 'complaint_encoded', 'satisfaction_encoded', 'resolution_days']\n"
     ]
    }
   ],
   "source": [
    "print(df_clean.columns.tolist())\n"
   ]
  },
  {
   "cell_type": "code",
   "execution_count": 46,
   "id": "2e8d971c",
   "metadata": {},
   "outputs": [],
   "source": [
    "features = ['industry_encoded', 'complaint_encoded', 'resolution_days', 'satisfaction_encoded']\n",
    "X = df_clean[features]\n",
    "y = df_clean['vendor_responded']\n"
   ]
  },
  {
   "cell_type": "code",
   "execution_count": 47,
   "id": "96d126e0",
   "metadata": {},
   "outputs": [
    {
     "name": "stdout",
     "output_type": "stream",
     "text": [
      "📊 Classification Report:\n",
      "              precision    recall  f1-score   support\n",
      "\n",
      "           0       0.93      0.97      0.95       604\n",
      "           1       0.97      0.94      0.96       740\n",
      "\n",
      "    accuracy                           0.95      1344\n",
      "   macro avg       0.95      0.96      0.95      1344\n",
      "weighted avg       0.96      0.95      0.95      1344\n",
      "\n",
      "\n",
      "🧩 Confusion Matrix:\n",
      "[[585  19]\n",
      " [ 42 698]]\n"
     ]
    }
   ],
   "source": [
    "from sklearn.model_selection import train_test_split\n",
    "from sklearn.ensemble import RandomForestClassifier\n",
    "from sklearn.metrics import classification_report, confusion_matrix\n",
    "\n",
    "# Split the data\n",
    "X_train, X_test, y_train, y_test = train_test_split(X, y, test_size=0.3, random_state=42)\n",
    "\n",
    "# Train the model\n",
    "model = RandomForestClassifier(random_state=42)\n",
    "model.fit(X_train, y_train)\n",
    "\n",
    "# Predict\n",
    "y_pred = model.predict(X_test)\n",
    "\n",
    "# Evaluate\n",
    "print(\"📊 Classification Report:\")\n",
    "print(classification_report(y_test, y_pred))\n",
    "\n",
    "print(\"\\n🧩 Confusion Matrix:\")\n",
    "print(confusion_matrix(y_test, y_pred))\n"
   ]
  }
 ],
 "metadata": {
  "kernelspec": {
   "display_name": "venv",
   "language": "python",
   "name": "python3"
  },
  "language_info": {
   "codemirror_mode": {
    "name": "ipython",
    "version": 3
   },
   "file_extension": ".py",
   "mimetype": "text/x-python",
   "name": "python",
   "nbconvert_exporter": "python",
   "pygments_lexer": "ipython3",
   "version": "3.13.3"
  }
 },
 "nbformat": 4,
 "nbformat_minor": 5
}
